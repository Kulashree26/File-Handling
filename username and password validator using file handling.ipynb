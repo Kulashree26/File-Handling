{
 "cells": [
  {
   "cell_type": "code",
   "execution_count": 74,
   "id": "a6d50f4f",
   "metadata": {},
   "outputs": [],
   "source": [
    "f = open(\"Myfile.txt\", \"r\")\n",
    "f.close()"
   ]
  },
  {
   "cell_type": "code",
   "execution_count": 76,
   "id": "2c3d27e6",
   "metadata": {},
   "outputs": [
    {
     "name": "stdout",
     "output_type": "stream",
     "text": [
      "enter name:Kulashree\n",
      "enter password:Kul@123\n",
      "enter name:Parth\n",
      "enter password:parth#24\n",
      "enter name:Gaurav\n",
      "enter password:G#127\n",
      "enter name:Neel\n",
      "enter password:ee@999\n",
      "enter name:Divya\n",
      "enter password:div*2022\n"
     ]
    }
   ],
   "source": [
    "f = open(\"Myfile.txt\", \"w\")\n",
    "i = 0\n",
    "while i<5:\n",
    "    f = open(\"Myfile.txt\", \"a\")\n",
    "    name = input('enter name:')\n",
    "    password = input('enter password:')\n",
    "    f.write(name)\n",
    "    f.write(\"\\t\")\n",
    "    f.write(password)\n",
    "    f.write(\"\\n\")\n",
    "    i+=1\n",
    "f.close()"
   ]
  },
  {
   "cell_type": "code",
   "execution_count": 78,
   "id": "b582ec56",
   "metadata": {},
   "outputs": [
    {
     "name": "stdout",
     "output_type": "stream",
     "text": [
      "Kulashree\tKul@123\n",
      "Parth\tparth#24\n",
      "Gaurav\tG#127\n",
      "Neel\tee@999\n",
      "Divya\tdiv*2022\n",
      "\n"
     ]
    }
   ],
   "source": [
    "f = open(\"Myfile.txt\", \"r\")\n",
    "print(f.read())"
   ]
  },
  {
   "cell_type": "code",
   "execution_count": 81,
   "id": "e25c7410",
   "metadata": {},
   "outputs": [
    {
     "name": "stdout",
     "output_type": "stream",
     "text": [
      "enter username:Gaurav\n",
      "enter password:G@24\n",
      "Not Authorized\n"
     ]
    }
   ],
   "source": [
    "def check_UsernamePassword():\n",
    "    username = input('enter username:').strip()\n",
    "    password = input('enter password:').strip()\n",
    "    with open(\"Myfile.txt\", \"r\") as f:\n",
    "        for line in f.readlines():\n",
    "            loginInfo = line.strip().split('\\t')\n",
    "            if username == loginInfo[0] and password == loginInfo[1]:\n",
    "                return True\n",
    "            \n",
    "        \n",
    "if check_UsernamePassword() == True:\n",
    "    print('Authorized')\n",
    "else:\n",
    "    print('Not Authorized')   "
   ]
  },
  {
   "cell_type": "code",
   "execution_count": null,
   "id": "513ff19d",
   "metadata": {},
   "outputs": [],
   "source": []
  },
  {
   "cell_type": "code",
   "execution_count": null,
   "id": "9293feb2",
   "metadata": {},
   "outputs": [],
   "source": []
  },
  {
   "cell_type": "code",
   "execution_count": null,
   "id": "270926c6",
   "metadata": {},
   "outputs": [],
   "source": []
  }
 ],
 "metadata": {
  "kernelspec": {
   "display_name": "Python 3",
   "language": "python",
   "name": "python3"
  },
  "language_info": {
   "codemirror_mode": {
    "name": "ipython",
    "version": 3
   },
   "file_extension": ".py",
   "mimetype": "text/x-python",
   "name": "python",
   "nbconvert_exporter": "python",
   "pygments_lexer": "ipython3",
   "version": "3.8.8"
  }
 },
 "nbformat": 4,
 "nbformat_minor": 5
}
