{
 "cells": [
  {
   "cell_type": "code",
   "execution_count": 2,
   "id": "8d0a38e4",
   "metadata": {},
   "outputs": [
    {
     "name": "stdout",
     "output_type": "stream",
     "text": [
      "Collecting pyPDF2\n",
      "  Downloading pypdf2-3.0.1-py3-none-any.whl (232 kB)\n",
      "Requirement already satisfied: typing_extensions>=3.10.0.0 in c:\\users\\kulas\\anaconda3\\lib\\site-packages (from pyPDF2) (4.4.0)\n",
      "Installing collected packages: pyPDF2\n",
      "Successfully installed pyPDF2-3.0.1\n",
      "Note: you may need to restart the kernel to use updated packages.\n"
     ]
    }
   ],
   "source": [
    "pip install pyPDF2"
   ]
  },
  {
   "cell_type": "code",
   "execution_count": 3,
   "id": "64a13031",
   "metadata": {},
   "outputs": [],
   "source": [
    "import PyPDF2"
   ]
  },
  {
   "cell_type": "code",
   "execution_count": 6,
   "id": "b3595302",
   "metadata": {},
   "outputs": [],
   "source": [
    "pdf = open('../../Downloads/Check validations.pdf', 'rb')"
   ]
  },
  {
   "cell_type": "code",
   "execution_count": 11,
   "id": "ebd38be2",
   "metadata": {},
   "outputs": [],
   "source": [
    "pdf_read = PyPDF2.PdfReader(pdf)"
   ]
  },
  {
   "cell_type": "code",
   "execution_count": 14,
   "id": "90463c2f",
   "metadata": {},
   "outputs": [],
   "source": [
    "pg = pdf_read.pages[0]"
   ]
  },
  {
   "cell_type": "code",
   "execution_count": 15,
   "id": "b3c7f1e1",
   "metadata": {},
   "outputs": [
    {
     "name": "stdout",
     "output_type": "stream",
     "text": [
      "13/12/2022, 10:20 Check validations\n",
      "localhost:8888/nbconvert/html/DSML19/T ask/Check validations.ipynb?download=false 1/2\n",
      "In [53]:def check_name ():\n",
      "    while True:\n",
      "        name = input('enter name:' )\n",
      "        for name in name:\n",
      "            if (name.isalpha() or name in [' ']):\n",
      "                return True \n",
      "            else:\n",
      "                return False\n",
      "In [54]:\n",
      "def check_mob_num ():\n",
      "    while True:\n",
      "        N = input('enter mob_no.:' )\n",
      "        if (N.isdigit() == True and len(N)==10):\n",
      "            print('valid number' )\n",
      "        else:\n",
      "            print('Invalid number' )\n",
      "        break\n",
      "In [55]:\n",
      "import re\n",
      "def check_email ():\n",
      "    regex = r'\\b[A-za-z0-9._%+-]+@[A-za-z0-9.-]+\\.[A-Z|a-z]{2,}\\b'\n",
      "    while True:\n",
      "        Email_id  = input('enter email_id:' )\n",
      "        if (re.fullmatch (regex, Email_id )):\n",
      "            print('Valid Email_id' )\n",
      "        else:\n",
      "            print('Invalid Email_id' )\n",
      "        break\n",
      "In [67]:\n",
      "from datetime  import datetime\n",
      "def check_birthdate ():\n",
      "    while True:\n",
      "        Birthdate  = input('enter birthdate:' )\n",
      "        try:\n",
      "            dt_start  = datetime .strptime (Birthdate  , '%d/%m/%Y')\n",
      "            print('Valid date' )\n",
      "        except ValueError :\n",
      "            print('Invalid date' )\n",
      "        break\n",
      "        \n",
      "In [70]:\n",
      "def check_validations ():\n",
      "    while True:\n",
      "        cmd = input('do you want to check again:' )\n",
      "        if cmd == 'n':\n",
      "            break\n",
      "        elif cmd == 'y':\n",
      "            option = input('select option (1/2/3/4):' )\n",
      "            if option == '1':\n",
      "                if check_name ():\n",
      "                    print('Valid')\n",
      "                else:\n",
      "                    print('Invalid' )\n",
      "            elif option == '2':\n",
      "                check_mob_num ()    \n",
      "            elif option == '3':\n",
      "                check_email ()\n"
     ]
    }
   ],
   "source": [
    "print(pg.extract_text())"
   ]
  },
  {
   "cell_type": "code",
   "execution_count": 16,
   "id": "320894fe",
   "metadata": {},
   "outputs": [],
   "source": [
    "pdf.close()"
   ]
  },
  {
   "cell_type": "code",
   "execution_count": null,
   "id": "ecae2ab8",
   "metadata": {},
   "outputs": [],
   "source": []
  }
 ],
 "metadata": {
  "kernelspec": {
   "display_name": "Python 3",
   "language": "python",
   "name": "python3"
  },
  "language_info": {
   "codemirror_mode": {
    "name": "ipython",
    "version": 3
   },
   "file_extension": ".py",
   "mimetype": "text/x-python",
   "name": "python",
   "nbconvert_exporter": "python",
   "pygments_lexer": "ipython3",
   "version": "3.8.8"
  }
 },
 "nbformat": 4,
 "nbformat_minor": 5
}
