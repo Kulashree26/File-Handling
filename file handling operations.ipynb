{
 "cells": [
  {
   "cell_type": "code",
   "execution_count": 1,
   "id": "6df48fe0",
   "metadata": {},
   "outputs": [],
   "source": [
    "f = open(\"Myfile1.txt\", \"w\")\n",
    "f.write('first line\\n')\n",
    "f.write('second line\\n')\n",
    "f.write('third line\\n')\n",
    "f.write('fourth line\\n')\n",
    "f.write('fifth line')\n",
    "f.close()"
   ]
  },
  {
   "cell_type": "code",
   "execution_count": 2,
   "id": "c4085339",
   "metadata": {},
   "outputs": [
    {
     "name": "stdout",
     "output_type": "stream",
     "text": [
      "first line\n",
      "second line\n",
      "third line\n",
      "fourth line\n",
      "fifth line\n"
     ]
    }
   ],
   "source": [
    "f = open(\"Myfile1.txt\", \"r\")\n",
    "print(f.read())"
   ]
  },
  {
   "cell_type": "code",
   "execution_count": 3,
   "id": "0e3d0b13",
   "metadata": {},
   "outputs": [
    {
     "name": "stdout",
     "output_type": "stream",
     "text": [
      "enter no. of lines:2\n",
      "first line\n",
      "second line\n"
     ]
    }
   ],
   "source": [
    "with open(\"Myfile1.txt\", \"r\") as f:\n",
    "    n = int(input('enter no. of lines:'))\n",
    "    x = f.readlines()[:n]\n",
    "    for x in x:\n",
    "        print(x.strip())"
   ]
  },
  {
   "cell_type": "code",
   "execution_count": 4,
   "id": "03f55c3c",
   "metadata": {},
   "outputs": [
    {
     "name": "stdout",
     "output_type": "stream",
     "text": [
      "enter no. of lines:3\n",
      "third line\n",
      "fourth line\n",
      "fifth line\n"
     ]
    }
   ],
   "source": [
    "with open(\"Myfile1.txt\", \"r\") as f:\n",
    "    n = int(input('enter no. of lines:'))\n",
    "    x = f.readlines()[-n:]\n",
    "    for x in x:\n",
    "        print(x.strip())"
   ]
  },
  {
   "cell_type": "code",
   "execution_count": 9,
   "id": "b12f6810",
   "metadata": {},
   "outputs": [
    {
     "name": "stdout",
     "output_type": "stream",
     "text": [
      "second\n",
      "fourth\n"
     ]
    }
   ],
   "source": [
    "with open(\"Myfile1.txt\", \"r\") as f:\n",
    "    words = f.read().split()\n",
    "    max_len = len(max(words, key=len))\n",
    "    for word in words:\n",
    "        if (len(word) == max_len):\n",
    "            print(word)\n",
    "        "
   ]
  },
  {
   "cell_type": "code",
   "execution_count": 13,
   "id": "46fe0cba",
   "metadata": {},
   "outputs": [
    {
     "name": "stdout",
     "output_type": "stream",
     "text": [
      "47\n"
     ]
    }
   ],
   "source": [
    "with open(\"Myfile1.txt\", \"r\") as f:\n",
    "    count = 0\n",
    "    words = f.read().split()\n",
    "    for word in words:\n",
    "        for i in word:\n",
    "            count+=1\n",
    "    print(count)"
   ]
  },
  {
   "cell_type": "code",
   "execution_count": null,
   "id": "eda105e6",
   "metadata": {},
   "outputs": [],
   "source": []
  }
 ],
 "metadata": {
  "kernelspec": {
   "display_name": "Python 3",
   "language": "python",
   "name": "python3"
  },
  "language_info": {
   "codemirror_mode": {
    "name": "ipython",
    "version": 3
   },
   "file_extension": ".py",
   "mimetype": "text/x-python",
   "name": "python",
   "nbconvert_exporter": "python",
   "pygments_lexer": "ipython3",
   "version": "3.8.8"
  }
 },
 "nbformat": 4,
 "nbformat_minor": 5
}
