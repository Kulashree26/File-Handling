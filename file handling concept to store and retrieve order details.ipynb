{
 "cells": [
  {
   "cell_type": "code",
   "execution_count": 38,
   "id": "ffe40c9c",
   "metadata": {},
   "outputs": [
    {
     "name": "stdout",
     "output_type": "stream",
     "text": [
      "do you want order again:y\n",
      "enter order_id:101\n",
      "enter price:100\n",
      "do you want order again:y\n",
      "enter order_id:102\n",
      "enter price:125\n",
      "do you want order again:y\n",
      "enter order_id:103\n",
      "enter price:200\n",
      "do you want order again:y\n",
      "enter order_id:104\n",
      "enter price:150\n",
      "do you want order again:y\n",
      "enter order_id:105\n",
      "enter price:250\n",
      "do you want order again:n\n"
     ]
    }
   ],
   "source": [
    "f = open('order details.txt', 'w')\n",
    "while True:\n",
    "    n = input('do you want order again:')\n",
    "    if n =='n':\n",
    "        break\n",
    "    else:\n",
    "        order_id = input('enter order_id:')\n",
    "        price = input('enter price:')\n",
    "        f = open('order details.txt', 'a')\n",
    "        f.write(order_id)\n",
    "        f.write('\\t')\n",
    "        f.write(price)\n",
    "        f.write('\\n')\n",
    "f.close()\n"
   ]
  },
  {
   "cell_type": "code",
   "execution_count": 39,
   "id": "f26e85c0",
   "metadata": {},
   "outputs": [
    {
     "name": "stdout",
     "output_type": "stream",
     "text": [
      "101\t100\n",
      "102\t125\n",
      "103\t200\n",
      "104\t150\n",
      "105\t250\n",
      "\n"
     ]
    }
   ],
   "source": [
    "f = open('order details.txt', 'r')\n",
    "print(f.read())"
   ]
  },
  {
   "cell_type": "code",
   "execution_count": 112,
   "id": "aa45b440",
   "metadata": {},
   "outputs": [
    {
     "name": "stdout",
     "output_type": "stream",
     "text": [
      "order_id of max_price: 105 \n",
      "max_price: 250\n"
     ]
    }
   ],
   "source": [
    "d={}\n",
    "with open(\"order details.txt\", \"r\") as f:\n",
    "    X = f.readlines()\n",
    "    for x in X:\n",
    "        d.update({ x.strip().split('\\t')[0] : int(x.strip().split('\\t')[1])})\n",
    "print('order_id of max_price:',max(d,key=d.get),'\\n''max_price:',d[max(d,key=d.get)])\n",
    "        \n",
    "            "
   ]
  },
  {
   "cell_type": "code",
   "execution_count": null,
   "id": "de7f9bad",
   "metadata": {},
   "outputs": [],
   "source": []
  }
 ],
 "metadata": {
  "kernelspec": {
   "display_name": "Python 3",
   "language": "python",
   "name": "python3"
  },
  "language_info": {
   "codemirror_mode": {
    "name": "ipython",
    "version": 3
   },
   "file_extension": ".py",
   "mimetype": "text/x-python",
   "name": "python",
   "nbconvert_exporter": "python",
   "pygments_lexer": "ipython3",
   "version": "3.8.8"
  }
 },
 "nbformat": 4,
 "nbformat_minor": 5
}
