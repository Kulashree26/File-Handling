{
 "cells": [
  {
   "cell_type": "code",
   "execution_count": 1,
   "id": "294257a0",
   "metadata": {},
   "outputs": [],
   "source": [
    "List = ['switch', 'concert' , 'contradiction' , 'offset' , 'power' , 'concert' , 'concert' , 'offset']"
   ]
  },
  {
   "cell_type": "code",
   "execution_count": 2,
   "id": "5f64e84e",
   "metadata": {},
   "outputs": [],
   "source": [
    "f = open('demo.txt', 'w')\n",
    "for i in List:\n",
    "    f.write(i)\n",
    "    f.write('\\n')"
   ]
  },
  {
   "cell_type": "code",
   "execution_count": 3,
   "id": "961324c2",
   "metadata": {},
   "outputs": [
    {
     "name": "stdout",
     "output_type": "stream",
     "text": [
      "switch\n",
      "concert\n",
      "contradiction\n",
      "offset\n",
      "power\n",
      "concert\n",
      "concert\n",
      "offset\n",
      "\n"
     ]
    }
   ],
   "source": [
    "f = open('demo.txt', 'r')\n",
    "print(f.read())"
   ]
  },
  {
   "cell_type": "code",
   "execution_count": 11,
   "id": "bc46a40d",
   "metadata": {},
   "outputs": [
    {
     "name": "stdout",
     "output_type": "stream",
     "text": [
      "{'switch': 1, 'concert': 3, 'contradiction': 1, 'offset': 2, 'power': 1}\n"
     ]
    }
   ],
   "source": [
    "d ={}\n",
    "with open('demo.txt', 'r') as f:\n",
    "    words = f.read().split()\n",
    "    for i in words:\n",
    "        if i in d:\n",
    "            d[i] = d[i]+1\n",
    "        else:\n",
    "            d[i] = 1\n",
    "print(d)\n",
    "    "
   ]
  },
  {
   "cell_type": "code",
   "execution_count": null,
   "id": "c91763bf",
   "metadata": {},
   "outputs": [],
   "source": []
  }
 ],
 "metadata": {
  "kernelspec": {
   "display_name": "Python 3",
   "language": "python",
   "name": "python3"
  },
  "language_info": {
   "codemirror_mode": {
    "name": "ipython",
    "version": 3
   },
   "file_extension": ".py",
   "mimetype": "text/x-python",
   "name": "python",
   "nbconvert_exporter": "python",
   "pygments_lexer": "ipython3",
   "version": "3.8.8"
  }
 },
 "nbformat": 4,
 "nbformat_minor": 5
}
